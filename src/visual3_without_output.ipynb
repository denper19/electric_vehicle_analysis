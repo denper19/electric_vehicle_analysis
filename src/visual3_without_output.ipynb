{
 "cells": [
  {
   "cell_type": "code",
   "execution_count": null,
   "metadata": {},
   "outputs": [],
   "source": [
    "from dataset_handler import DatasetHandler\n",
    "import matplotlib.pyplot as plt\n",
    "from dataset_handler import DatasetHandler\n",
    "from geopy.geocoders import Nominatim\n",
    "import folium\n",
    "from folium import Marker\n",
    "from folium.plugins import MarkerCluster\n",
    "import json\n",
    "\n",
    "handler = DatasetHandler(\"Electric_Vehicle_Population_Data.csv\")\n",
    "handler.clean_dataset()\n",
    "\n",
    "with open(\"locations_data.json\", \"r\") as file:\n",
    "    loaded_data = json.load(file)    "
   ]
  },
  {
   "cell_type": "code",
   "execution_count": null,
   "metadata": {},
   "outputs": [],
   "source": [
    "EV_map_usa = folium.Map(location=[39.5, -99.7], tiles='cartodbpositron', zoom_start=4.4)\n",
    "\n",
    "for loc in handler._df[handler._df['Electric Vehicle Type']=='BEV']['Postal Code'].dropna():\n",
    "    key = str(int(loc))\n",
    "    lat, lon = loaded_data[key]['latitude'], loaded_data[key]['longitude']\n",
    "    folium.CircleMarker(location=[lat, lon], radius=5, fill=True, fill_color=\"red\", fill_opacity=1, stroke=False).add_to(EV_map_usa)\n",
    "\n",
    "for loc in handler._df[handler._df['Electric Vehicle Type']=='PHEV']['Postal Code'].dropna():\n",
    "    key = str(int(loc))\n",
    "    lat, lon = loaded_data[key]['latitude'], loaded_data[key]['longitude']\n",
    "    folium.CircleMarker(location=[lat, lon], radius=5, fill=True, fill_color=\"green\", fill_opacity=1, stroke=False).add_to(EV_map_usa)\n",
    "\n",
    "EV_map_usa"
   ]
  }
 ],
 "metadata": {
  "kernelspec": {
   "display_name": "Python 3",
   "language": "python",
   "name": "python3"
  },
  "language_info": {
   "codemirror_mode": {
    "name": "ipython",
    "version": 3
   },
   "file_extension": ".py",
   "mimetype": "text/x-python",
   "name": "python",
   "nbconvert_exporter": "python",
   "pygments_lexer": "ipython3",
   "version": "3.10.11"
  }
 },
 "nbformat": 4,
 "nbformat_minor": 2
}
